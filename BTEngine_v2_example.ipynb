{
 "cells": [
  {
   "cell_type": "markdown",
   "metadata": {
    "id": "4S4jBFKgWlGH"
   },
   "source": [
    "Developed by **Chang Ye** @ 09-13-2025\n",
    "\n",
    "Feel free to contect me via email: chang.ye@my.cityu.edu.hk | and obtain the latest version from github: https://github.com/Yechang618/Quant-Analysis-example.git\n",
    "\n",
    "\n",
    "---\n",
    "What's new?\n",
    "\n",
    "This is an updated version of backtest engine (BTEngine). In this version, the backtest for one of the most recent Generate AI model, Kronos, is included. For more information about Kronos, please refer to https://github.com/shiyu-coder/Kronos/tree/master. \n",
    "Thanks for this mavelous work of Yu Shi's group.\n"
   ]
  },
  {
   "cell_type": "markdown",
   "metadata": {
    "id": "76mvkL2F9WLo"
   },
   "source": [
    "**Section 0** Install the python libraries in case they are not installed by default. Please comment this block if you don't need it."
   ]
  },
  {
   "cell_type": "code",
   "execution_count": 2,
   "metadata": {
    "id": "S1ukjqKi9rHW"
   },
   "outputs": [
    {
     "name": "stdout",
     "output_type": "stream",
     "text": [
      "Requirement already satisfied: yfinance in c:\\users\\yecha\\anaconda3\\lib\\site-packages (0.2.65)\n",
      "Requirement already satisfied: pandas in c:\\users\\yecha\\anaconda3\\lib\\site-packages (2.2.3)\n",
      "Requirement already satisfied: matplotlib in c:\\users\\yecha\\anaconda3\\lib\\site-packages (3.10.0)\n",
      "Requirement already satisfied: torch in c:\\users\\yecha\\anaconda3\\lib\\site-packages (2.8.0)\n",
      "Requirement already satisfied: numpy>=1.16.5 in c:\\users\\yecha\\anaconda3\\lib\\site-packages (from yfinance) (2.1.3)\n",
      "Requirement already satisfied: requests>=2.31 in c:\\users\\yecha\\anaconda3\\lib\\site-packages (from yfinance) (2.32.3)\n",
      "Requirement already satisfied: multitasking>=0.0.7 in c:\\users\\yecha\\anaconda3\\lib\\site-packages (from yfinance) (0.0.12)\n",
      "Requirement already satisfied: platformdirs>=2.0.0 in c:\\users\\yecha\\anaconda3\\lib\\site-packages (from yfinance) (4.3.7)\n",
      "Requirement already satisfied: pytz>=2022.5 in c:\\users\\yecha\\anaconda3\\lib\\site-packages (from yfinance) (2024.1)\n",
      "Requirement already satisfied: frozendict>=2.3.4 in c:\\users\\yecha\\anaconda3\\lib\\site-packages (from yfinance) (2.4.2)\n",
      "Requirement already satisfied: peewee>=3.16.2 in c:\\users\\yecha\\anaconda3\\lib\\site-packages (from yfinance) (3.18.2)\n",
      "Requirement already satisfied: beautifulsoup4>=4.11.1 in c:\\users\\yecha\\anaconda3\\lib\\site-packages (from yfinance) (4.12.3)\n",
      "Requirement already satisfied: curl_cffi>=0.7 in c:\\users\\yecha\\anaconda3\\lib\\site-packages (from yfinance) (0.13.0)\n",
      "Requirement already satisfied: protobuf>=3.19.0 in c:\\users\\yecha\\anaconda3\\lib\\site-packages (from yfinance) (5.29.3)\n",
      "Requirement already satisfied: websockets>=13.0 in c:\\users\\yecha\\anaconda3\\lib\\site-packages (from yfinance) (15.0.1)\n",
      "Requirement already satisfied: python-dateutil>=2.8.2 in c:\\users\\yecha\\anaconda3\\lib\\site-packages (from pandas) (2.9.0.post0)\n",
      "Requirement already satisfied: tzdata>=2022.7 in c:\\users\\yecha\\anaconda3\\lib\\site-packages (from pandas) (2025.2)\n",
      "Requirement already satisfied: contourpy>=1.0.1 in c:\\users\\yecha\\anaconda3\\lib\\site-packages (from matplotlib) (1.3.1)\n",
      "Requirement already satisfied: cycler>=0.10 in c:\\users\\yecha\\anaconda3\\lib\\site-packages (from matplotlib) (0.11.0)\n",
      "Requirement already satisfied: fonttools>=4.22.0 in c:\\users\\yecha\\anaconda3\\lib\\site-packages (from matplotlib) (4.55.3)\n",
      "Requirement already satisfied: kiwisolver>=1.3.1 in c:\\users\\yecha\\anaconda3\\lib\\site-packages (from matplotlib) (1.4.8)\n",
      "Requirement already satisfied: packaging>=20.0 in c:\\users\\yecha\\anaconda3\\lib\\site-packages (from matplotlib) (24.2)\n",
      "Requirement already satisfied: pillow>=8 in c:\\users\\yecha\\anaconda3\\lib\\site-packages (from matplotlib) (11.1.0)\n",
      "Requirement already satisfied: pyparsing>=2.3.1 in c:\\users\\yecha\\anaconda3\\lib\\site-packages (from matplotlib) (3.2.0)\n",
      "Requirement already satisfied: filelock in c:\\users\\yecha\\anaconda3\\lib\\site-packages (from torch) (3.17.0)\n",
      "Requirement already satisfied: typing-extensions>=4.10.0 in c:\\users\\yecha\\anaconda3\\lib\\site-packages (from torch) (4.12.2)\n",
      "Requirement already satisfied: sympy>=1.13.3 in c:\\users\\yecha\\anaconda3\\lib\\site-packages (from torch) (1.13.3)\n",
      "Requirement already satisfied: networkx in c:\\users\\yecha\\anaconda3\\lib\\site-packages (from torch) (3.4.2)\n",
      "Requirement already satisfied: jinja2 in c:\\users\\yecha\\anaconda3\\lib\\site-packages (from torch) (3.1.6)\n",
      "Requirement already satisfied: fsspec in c:\\users\\yecha\\anaconda3\\lib\\site-packages (from torch) (2025.3.2)\n",
      "Requirement already satisfied: setuptools in c:\\users\\yecha\\anaconda3\\lib\\site-packages (from torch) (72.1.0)\n",
      "Requirement already satisfied: soupsieve>1.2 in c:\\users\\yecha\\anaconda3\\lib\\site-packages (from beautifulsoup4>=4.11.1->yfinance) (2.5)\n",
      "Requirement already satisfied: cffi>=1.12.0 in c:\\users\\yecha\\anaconda3\\lib\\site-packages (from curl_cffi>=0.7->yfinance) (1.17.1)\n",
      "Requirement already satisfied: certifi>=2024.2.2 in c:\\users\\yecha\\anaconda3\\lib\\site-packages (from curl_cffi>=0.7->yfinance) (2025.8.3)\n",
      "Requirement already satisfied: pycparser in c:\\users\\yecha\\anaconda3\\lib\\site-packages (from cffi>=1.12.0->curl_cffi>=0.7->yfinance) (2.21)\n",
      "Requirement already satisfied: six>=1.5 in c:\\users\\yecha\\anaconda3\\lib\\site-packages (from python-dateutil>=2.8.2->pandas) (1.17.0)\n",
      "Requirement already satisfied: charset-normalizer<4,>=2 in c:\\users\\yecha\\anaconda3\\lib\\site-packages (from requests>=2.31->yfinance) (3.3.2)\n",
      "Requirement already satisfied: idna<4,>=2.5 in c:\\users\\yecha\\anaconda3\\lib\\site-packages (from requests>=2.31->yfinance) (3.7)\n",
      "Requirement already satisfied: urllib3<3,>=1.21.1 in c:\\users\\yecha\\anaconda3\\lib\\site-packages (from requests>=2.31->yfinance) (2.3.0)\n",
      "Requirement already satisfied: mpmath<1.4,>=1.1.0 in c:\\users\\yecha\\anaconda3\\lib\\site-packages (from sympy>=1.13.3->torch) (1.3.0)\n",
      "Requirement already satisfied: MarkupSafe>=2.0 in c:\\users\\yecha\\anaconda3\\lib\\site-packages (from jinja2->torch) (3.0.2)\n",
      "Requirement already satisfied: einops in c:\\users\\yecha\\anaconda3\\lib\\site-packages (0.8.1)\n",
      "Requirement already satisfied: safetensors in c:\\users\\yecha\\anaconda3\\lib\\site-packages (0.6.2)\n",
      "Requirement already satisfied: hf_xet in c:\\users\\yecha\\anaconda3\\lib\\site-packages (1.1.9)\n"
     ]
    }
   ],
   "source": [
    "# Basic libraries\n",
    "!pip install yfinance pandas matplotlib torch\n",
    "!pip install einops safetensors hf_xet"
   ]
  },
  {
   "cell_type": "markdown",
   "metadata": {
    "id": "vNv0Q4d81Wpn"
   },
   "source": [
    "**Section 1** Library loading"
   ]
  },
  {
   "cell_type": "code",
   "execution_count": 3,
   "metadata": {
    "id": "aouOR-U2c_6v"
   },
   "outputs": [],
   "source": [
    "import pandas as pd\n",
    "import numpy as np\n",
    "import yfinance as yf\n",
    "import torch\n",
    "import matplotlib.pyplot as plt\n",
    "import seaborn as sns\n",
    "from datetime import datetime, timedelta\n",
    "import warnings\n",
    "warnings.filterwarnings('ignore')\n",
    "### system related libraries\n",
    "import sys, os\n",
    "# print(os.getcwd()) # check current address.\n",
    "## Import the backtest toolbox (BTT)\n",
    "if os.getcwd() not in sys.path:\n",
    "    sys.path.append(os.getcwd())\n",
    "from BTToolbox import BTEngine as BTE\n",
    "from BTToolbox import utils as uts"
   ]
  },
  {
   "cell_type": "markdown",
   "metadata": {
    "id": "afQErCbO1oQp"
   },
   "source": [
    "**Section 2** Download the lastest version of Kronos from github."
   ]
  },
  {
   "cell_type": "code",
   "execution_count": 4,
   "metadata": {},
   "outputs": [
    {
     "name": "stderr",
     "output_type": "stream",
     "text": [
      "fatal: destination path 'Kronos' already exists and is not an empty directory.\n"
     ]
    }
   ],
   "source": [
    "!git clone https://github.com/shiyu-coder/Kronos.git"
   ]
  },
  {
   "cell_type": "code",
   "execution_count": 5,
   "metadata": {},
   "outputs": [],
   "source": [
    "Kronos_path = os.path.join(os.getcwd(),'Kronos')\n",
    "if Kronos_path not in sys.path:\n",
    "    sys.path.append(Kronos_path)\n"
   ]
  },
  {
   "cell_type": "markdown",
   "metadata": {
    "id": "iIjkHpd85cq8"
   },
   "source": [
    "**Section 3**: Data download and preprocess"
   ]
  },
  {
   "cell_type": "code",
   "execution_count": 6,
   "metadata": {
    "id": "DsMUvd1fX8dq"
   },
   "outputs": [
    {
     "name": "stdout",
     "output_type": "stream",
     "text": [
      "Fetching data for AAPL from 2020-01-01 to 2023-12-31...\n"
     ]
    },
    {
     "name": "stderr",
     "output_type": "stream",
     "text": [
      "[*********************100%***********************]  1 of 1 completed"
     ]
    },
    {
     "name": "stdout",
     "output_type": "stream",
     "text": [
      "Data fetched: 1006 records from 2020-01-02 00:00:00 to 2023-12-29 00:00:00\n",
      "Preprocessed data with 301 lookbacks and 706 targets...\n"
     ]
    },
    {
     "name": "stderr",
     "output_type": "stream",
     "text": [
      "\n"
     ]
    }
   ],
   "source": [
    "\"\"\"\n",
    "Main function to demonstrate backtesting with real data\n",
    "\"\"\"\n",
    "### Initialize backtest engine\n",
    "backtester = BTE.BacktestEngine(initial_capital=10000, commission=0.001, slippage=0.0005)\n",
    "\n",
    "### Fetch real-world data (Apple stock)\n",
    "# Here we select AAPL as the stock\n",
    "# You may test other stock, such as tickers in https://en.wikipedia.org/wiki/List_of_S%26P_500_companies\n",
    "TICKER = \"AAPL\"\n",
    "START_DATE = \"2020-01-01\"\n",
    "END_DATE = \"2023-12-31\"\n",
    "LOOKBACK = 300 # The window size for machine learning approaches\n",
    "## \n",
    "bTdata = uts.backTestData(ticker = TICKER, start_date = START_DATE, end_date = END_DATE, lookback = LOOKBACK)\n",
    "## Get targeted data\n",
    "dft, ts = bTdata.df_target.copy(), bTdata.ts_target.copy()\n",
    "dft.index = ts\n",
    "backtester.data = dft\n"
   ]
  },
  {
   "cell_type": "code",
   "execution_count": 7,
   "metadata": {},
   "outputs": [
    {
     "name": "stdout",
     "output_type": "stream",
     "text": [
      "Generating Kronos predictions from 2021-03-12 00:00:00  to 2023-12-29 00:00:00\n",
      "Predictions generated as: \n",
      "<class 'pandas.core.frame.DataFrame'>\n",
      "DatetimeIndex: 706 entries, 2021-03-12 to 2023-12-29\n",
      "Data columns (total 8 columns):\n",
      " #   Column      Non-Null Count  Dtype         \n",
      "---  ------      --------------  -----         \n",
      " 0   open        706 non-null    float64       \n",
      " 1   high        706 non-null    float64       \n",
      " 2   low         706 non-null    float64       \n",
      " 3   close       706 non-null    float64       \n",
      " 4   volume      706 non-null    int64         \n",
      " 5   amount      706 non-null    float64       \n",
      " 6   timestamps  706 non-null    datetime64[ns]\n",
      " 7   close_pred  706 non-null    float64       \n",
      "dtypes: datetime64[ns](1), float64(6), int64(1)\n",
      "memory usage: 49.6 KB\n",
      "None\n",
      "\n",
      "============================================================\n",
      "Testing KRONOS strategy\n",
      "============================================================\n",
      "Running backtest with kronos strategy...\n"
     ]
    },
    {
     "name": "stderr",
     "output_type": "stream",
     "text": [
      "[*********************100%***********************]  1 of 1 completed\n",
      "[*********************100%***********************]  1 of 1 completed\n",
      "[*********************100%***********************]  1 of 1 completed"
     ]
    },
    {
     "name": "stdout",
     "output_type": "stream",
     "text": [
      "Final Capital:  9524.75145501749\n",
      "Total Return:  -4.752485449825105\n",
      "Benchmark Return:  Ticker\n",
      "^GSPC    21.301992\n",
      "dtype: float64\n",
      "Alpha:  Ticker\n",
      "^GSPC   -26.054478\n",
      "dtype: float64\n",
      "Number of Trades:  147\n",
      "Win Rate:  44.89795918367347\n",
      "\n",
      "============================================================\n",
      "Testing TREND_FOLLOWING strategy\n",
      "============================================================\n",
      "Running backtest with trend_following strategy...\n",
      "Final Capital:  9745.103872143765\n",
      "Total Return:  -2.548961278562345\n",
      "Benchmark Return:  Ticker\n",
      "^GSPC    21.301992\n",
      "dtype: float64\n",
      "Alpha:  Ticker\n",
      "^GSPC   -23.850954\n",
      "dtype: float64\n",
      "Number of Trades:  7\n",
      "Win Rate:  14.285714285714285\n",
      "\n",
      "============================================================\n",
      "Testing MEAN_REVERSION strategy\n",
      "============================================================\n",
      "Running backtest with mean_reversion strategy...\n"
     ]
    },
    {
     "name": "stderr",
     "output_type": "stream",
     "text": [
      "\n",
      "[*********************100%***********************]  1 of 1 completed\n"
     ]
    },
    {
     "name": "stdout",
     "output_type": "stream",
     "text": [
      "Final Capital:  11646.7513369227\n",
      "Total Return:  16.467513369227007\n",
      "Benchmark Return:  Ticker\n",
      "^GSPC    21.301992\n",
      "dtype: float64\n",
      "Alpha:  Ticker\n",
      "^GSPC   -4.834479\n",
      "dtype: float64\n",
      "Number of Trades:  2\n",
      "Win Rate:  50.0\n",
      "\n",
      "============================================================\n",
      "Testing MACD_CROSSOVER strategy\n",
      "============================================================\n",
      "Running backtest with macd_crossover strategy...\n",
      "Final Capital:  11474.337728256154\n",
      "Total Return:  14.743377282561543\n",
      "Benchmark Return:  Ticker\n",
      "^GSPC    21.301992\n",
      "dtype: float64\n",
      "Alpha:  Ticker\n",
      "^GSPC   -6.558615\n",
      "dtype: float64\n",
      "Number of Trades:  11\n",
      "Win Rate:  36.36363636363637\n",
      "\n",
      "============================================================\n",
      "Testing RSI_MOMENTUM strategy\n",
      "============================================================\n",
      "Running backtest with rsi_momentum strategy...\n"
     ]
    },
    {
     "name": "stderr",
     "output_type": "stream",
     "text": [
      "[*********************100%***********************]  1 of 1 completed\n",
      "[*********************100%***********************]  1 of 1 completed"
     ]
    },
    {
     "name": "stdout",
     "output_type": "stream",
     "text": [
      "Final Capital:  10689.633745993953\n",
      "Total Return:  6.896337459939539\n",
      "Benchmark Return:  Ticker\n",
      "^GSPC    21.301992\n",
      "dtype: float64\n",
      "Alpha:  Ticker\n",
      "^GSPC   -14.405655\n",
      "dtype: float64\n",
      "Number of Trades:  13\n",
      "Win Rate:  46.15384615384615\n",
      "\n",
      "============================================================\n",
      "Testing BREAKOUT strategy\n",
      "============================================================\n",
      "Running backtest with breakout strategy...\n",
      "Final Capital:  10561.454409550417\n",
      "Total Return:  5.61454409550417\n",
      "Benchmark Return:  Ticker\n",
      "^GSPC    21.301992\n",
      "dtype: float64\n",
      "Alpha:  Ticker\n",
      "^GSPC   -15.687448\n",
      "dtype: float64\n",
      "Number of Trades:  10\n",
      "Win Rate:  30.0\n",
      "\n",
      "================================================================================\n",
      "STRATEGY COMPARISON\n",
      "================================================================================\n",
      "                Total Return (%)                      Benchmark Return (%)  \\\n",
      "kronos                 -4.752485  Ticker\n",
      "^GSPC    21.301992\n",
      "dtype: float64   \n",
      "trend_following        -2.548961  Ticker\n",
      "^GSPC    21.301992\n",
      "dtype: float64   \n",
      "mean_reversion         16.467513  Ticker\n",
      "^GSPC    21.301992\n",
      "dtype: float64   \n",
      "macd_crossover         14.743377  Ticker\n",
      "^GSPC    21.301992\n",
      "dtype: float64   \n",
      "rsi_momentum            6.896337  Ticker\n",
      "^GSPC    21.301992\n",
      "dtype: float64   \n",
      "breakout                5.614544  Ticker\n",
      "^GSPC    21.301992\n",
      "dtype: float64   \n",
      "\n",
      "                                                Alpha (%) Sharpe Ratio  \\\n",
      "kronos           Ticker\n",
      "^GSPC   -26.054478\n",
      "dtype: float64   -54.401958   \n",
      "trend_following  Ticker\n",
      "^GSPC   -23.850954\n",
      "dtype: float64   -36.256584   \n",
      "mean_reversion    Ticker\n",
      "^GSPC   -4.834479\n",
      "dtype: float64   227.364138   \n",
      "macd_crossover    Ticker\n",
      "^GSPC   -6.558615\n",
      "dtype: float64   154.867233   \n",
      "rsi_momentum     Ticker\n",
      "^GSPC   -14.405655\n",
      "dtype: float64    91.396222   \n",
      "breakout         Ticker\n",
      "^GSPC   -15.687448\n",
      "dtype: float64    67.219707   \n",
      "\n",
      "                Max Drawdown (%) Win Rate (%) Number of Trades  \n",
      "kronos                -13.018681    44.897959              147  \n",
      "trend_following       -10.143668    14.285714                7  \n",
      "mean_reversion          -8.34026         50.0                2  \n",
      "macd_crossover         -9.445202    36.363636               11  \n",
      "rsi_momentum           -10.92458    46.153846               13  \n",
      "breakout               -9.145784         30.0               10  \n"
     ]
    },
    {
     "name": "stderr",
     "output_type": "stream",
     "text": [
      "\n"
     ]
    }
   ],
   "source": [
    "### Test different strategies\n",
    "strategies = ['kronos', 'trend_following', 'mean_reversion', 'macd_crossover', 'rsi_momentum', 'breakout']\n",
    "\n",
    "df_pred_kronos = bTdata.generate_kronos_predictions()\n",
    "\n",
    "results = {}\n",
    "for strategy in strategies:\n",
    "    print(f\"\\n{'='*60}\")\n",
    "    print(f\"Testing {strategy.upper()} strategy\")\n",
    "    print(f\"{'='*60}\")\n",
    "\n",
    "    # Run backtest\n",
    "    if strategy == 'kronos':\n",
    "        # The startegy for Kronos is based on its prediction on close,\n",
    "        # so we need to input the prediced dataframe, i.e. df_pred_kronos\n",
    "        equity, trades = backtester.run_backtest(strategy=strategy, df_pred_kronos = df_pred_kronos)\n",
    "    else:\n",
    "        equity, trades = backtester.run_backtest(strategy=strategy)\n",
    "\n",
    "    # Calculate performance metrics\n",
    "    metrics = backtester.calculate_performance_metrics(benchmark_ticker='^GSPC')\n",
    "    results[strategy] = metrics\n",
    "\n",
    "    # Print results\n",
    "    print(\"Final Capital: \", metrics['Final Capital'])\n",
    "    print(\"Total Return: \", metrics['Total Return (%)'])\n",
    "    print(\"Benchmark Return: \", metrics['Benchmark Return (%)'])\n",
    "    print(\"Alpha: \", metrics['Alpha (%)'])\n",
    "    print(\"Number of Trades: \", metrics['Number of Trades'])\n",
    "    print(\"Win Rate: \", metrics['Win Rate (%)'])\n",
    "\n",
    "    # Plot results for the first strategy only to avoid too many plots\n",
    "    # if strategy == strategies[0]:\n",
    "    #     backtester.plot_results()\n",
    "\n",
    "\n",
    "\n",
    "### Compare strategies\n",
    "print(f\"\\n{'='*80}\")\n",
    "print(\"STRATEGY COMPARISON\")\n",
    "print(f\"{'='*80}\")\n",
    "\n",
    "comparison_df = pd.DataFrame(results).T\n",
    "important_metrics = ['Total Return (%)', 'Benchmark Return (%)', 'Alpha (%)',\n",
    "                    'Sharpe Ratio', 'Max Drawdown (%)', 'Win Rate (%)', 'Number of Trades']\n",
    "\n",
    "print(comparison_df[important_metrics].round(2))"
   ]
  },
  {
   "cell_type": "code",
   "execution_count": null,
   "metadata": {},
   "outputs": [],
   "source": []
  },
  {
   "cell_type": "code",
   "execution_count": null,
   "metadata": {},
   "outputs": [],
   "source": []
  },
  {
   "cell_type": "code",
   "execution_count": null,
   "metadata": {},
   "outputs": [],
   "source": []
  }
 ],
 "metadata": {
  "colab": {
   "private_outputs": true,
   "provenance": []
  },
  "kernelspec": {
   "display_name": "Python [conda env:base] *",
   "language": "python",
   "name": "conda-base-py"
  },
  "language_info": {
   "codemirror_mode": {
    "name": "ipython",
    "version": 3
   },
   "file_extension": ".py",
   "mimetype": "text/x-python",
   "name": "python",
   "nbconvert_exporter": "python",
   "pygments_lexer": "ipython3",
   "version": "3.13.5"
  }
 },
 "nbformat": 4,
 "nbformat_minor": 4
}
